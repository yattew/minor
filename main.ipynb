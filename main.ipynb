{
 "cells": [
  {
   "cell_type": "code",
   "execution_count": 47,
   "metadata": {},
   "outputs": [],
   "source": [
    "import pandas as pd\n",
    "from nltk.corpus import stopwords\n",
    "import re"
   ]
  },
  {
   "cell_type": "code",
   "execution_count": 2,
   "metadata": {},
   "outputs": [],
   "source": [
    "df = pd.read_csv(\"./jigsaw-toxic-comment-train-processed-seqlen128.csv\")"
   ]
  },
  {
   "cell_type": "code",
   "execution_count": 14,
   "metadata": {},
   "outputs": [],
   "source": [
    "df_new = df[[\"comment_text\",\"toxic\"]]"
   ]
  },
  {
   "cell_type": "code",
   "execution_count": 17,
   "metadata": {},
   "outputs": [
    {
     "name": "stdout",
     "output_type": "stream",
     "text": [
      "total rows: 223549\n",
      "toxic: 21384 not toxic:202165\n"
     ]
    }
   ],
   "source": [
    "print(\"total rows:\",len(df_new))\n",
    "print(\"toxic: \"+str(len(df_new[df_new.toxic==1]))+\" not toxic:\" + str(len(df_new[df_new.toxic==0])))"
   ]
  },
  {
   "cell_type": "code",
   "execution_count": 71,
   "metadata": {},
   "outputs": [],
   "source": [
    "# removing ip addresses, urls, and lowercasing\n",
    "def cleanup(text:str) -> str:\n",
    "    rule_ip = r'\\d{1,3}\\.\\d{1,3}\\.\\d{1,3}\\.\\d{1,3}'\n",
    "    rule_url = (\"((http|https|http://www.|https://www.|www.))\" +\n",
    "             \"[a-zA-Z0-9@:%._\\\\+~#?&//=]\" +\n",
    "             \"{2,256}\\\\.[a-z]\" +\n",
    "             \"{2,6}\\\\b([-a-zA-Z0-9@:%\" +\n",
    "             \"._\\\\+~#?&//=]*)\")\n",
    "    text = re.sub(rule_ip, '', text)\n",
    "    text = re.sub(rule_url, '', text)\n",
    "    text = re.sub('[-+_/]', ' ', text)\n",
    "    text = re.sub(\"[.,|:='~^0-9\\\\\\]\", \"\", text)\n",
    "    text = re.sub(\"\\n\", \" \", text)\n",
    "    text = \"\".join(x for x in text if x.isalpha() or x == \" \")\n",
    "    text = text.lower()\n",
    "    return text\n"
   ]
  },
  {
   "cell_type": "code",
   "execution_count": 63,
   "metadata": {},
   "outputs": [
    {
     "name": "stderr",
     "output_type": "stream",
     "text": [
      "C:\\Users\\yatha\\AppData\\Local\\Temp\\ipykernel_15984\\1315957199.py:1: SettingWithCopyWarning: \n",
      "A value is trying to be set on a copy of a slice from a DataFrame.\n",
      "Try using .loc[row_indexer,col_indexer] = value instead\n",
      "\n",
      "See the caveats in the documentation: https://pandas.pydata.org/pandas-docs/stable/user_guide/indexing.html#returning-a-view-versus-a-copy\n",
      "  df_new[\"comment_text\"] = df_new[\"comment_text\"].apply(cleanup)\n"
     ]
    }
   ],
   "source": [
    "df_new[\"comment_text\"] = df_new[\"comment_text\"].apply(cleanup)"
   ]
  },
  {
   "cell_type": "code",
   "execution_count": 70,
   "metadata": {},
   "outputs": [
    {
     "data": {
      "text/plain": [
       "True"
      ]
     },
     "execution_count": 70,
     "metadata": {},
     "output_type": "execute_result"
    }
   ],
   "source": [
    "# checking if comment text is cleaned up or not\n",
    "all(lambda y: all(\n",
    "    z.isalpha() or z == \" \" for z in y\n",
    ")for x in df_new.comment_text)\n"
   ]
  },
  {
   "cell_type": "code",
   "execution_count": 67,
   "metadata": {},
   "outputs": [],
   "source": [
    "df_new.to_csv(\"data_cleaned.csv\")"
   ]
  },
  {
   "cell_type": "code",
   "execution_count": 66,
   "metadata": {},
   "outputs": [
    {
     "data": {
      "text/plain": [
       "0     explanation edits made username hardcore metal...\n",
       "1     daww matches background colour im seemingly st...\n",
       "2     hey man im really trying edit war guy constant...\n",
       "3     cant make real suggestions improvement wondere...\n",
       "4                sir hero chance remember page thats on\n",
       "                            ...                        \n",
       "95    thanks see violating clearly stated wikipedia ...\n",
       "96                 hi thanks kind words see around talk\n",
       "97    collusion poker regarded heinous form cheating...\n",
       "98    thanks much however resolved today didnt write...\n",
       "99    youre right get username youll able impact im ...\n",
       "Name: comment_text, Length: 100, dtype: object"
      ]
     },
     "execution_count": 66,
     "metadata": {},
     "output_type": "execute_result"
    }
   ],
   "source": [
    "df_new.comment_text.head(100)"
   ]
  },
  {
   "cell_type": "code",
   "execution_count": 61,
   "metadata": {},
   "outputs": [
    {
     "data": {
      "text/plain": [
       "'!\"#$%&\\'()*+,-./:;<=>?@[\\\\]^_`{|}~'"
      ]
     },
     "execution_count": 61,
     "metadata": {},
     "output_type": "execute_result"
    }
   ],
   "source": []
  },
  {
   "cell_type": "code",
   "execution_count": null,
   "metadata": {},
   "outputs": [],
   "source": []
  }
 ],
 "metadata": {
  "kernelspec": {
   "display_name": "Python 3.9.7 64-bit",
   "language": "python",
   "name": "python3"
  },
  "language_info": {
   "codemirror_mode": {
    "name": "ipython",
    "version": 3
   },
   "file_extension": ".py",
   "mimetype": "text/x-python",
   "name": "python",
   "nbconvert_exporter": "python",
   "pygments_lexer": "ipython3",
   "version": "3.9.7"
  },
  "orig_nbformat": 4,
  "vscode": {
   "interpreter": {
    "hash": "5e7aa9285e3de144de9dc1bed64a2e21d5e2de74f602cce3061a3c45d2d5dc44"
   }
  }
 },
 "nbformat": 4,
 "nbformat_minor": 2
}
